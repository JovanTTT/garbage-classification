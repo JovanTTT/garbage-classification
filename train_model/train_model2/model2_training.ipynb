{
 "cells": [
  {
   "cell_type": "code",
   "execution_count": 1,
   "id": "37f0ac24-8b67-4fb4-93ad-f2881d555b27",
   "metadata": {},
   "outputs": [],
   "source": [
    "import tensorflow as tf\n",
    "from tensorflow.keras import Sequential, layers, optimizers\n",
    "from tensorflow.keras.applications import EfficientNetB0, ResNet50, MobileNetV2\n",
    "from tensorflow.keras.callbacks import EarlyStopping"
   ]
  },
  {
   "cell_type": "code",
   "execution_count": 2,
   "id": "92d743f7-a707-4b0a-b55f-79b7154c1de0",
   "metadata": {},
   "outputs": [],
   "source": [
    "IMG_SHAPE = (180, 180, 3) \n",
    "NUM_CLASSES = 5  "
   ]
  },
  {
   "cell_type": "code",
   "execution_count": 3,
   "id": "3c8dca94-1ae2-4fd2-8155-e04f6b1db8ea",
   "metadata": {},
   "outputs": [],
   "source": [
    "# 2. EfficientNet\n",
    "def build_efficientnet(input_shape=IMG_SHAPE, num_classes=NUM_CLASSES):\n",
    "    \"\"\"Builds and returns an EfficientNetB0 model.\"\"\"\n",
    "    base_model = EfficientNetB0(weights='imagenet', include_top=False, input_shape=input_shape)\n",
    "    base_model.trainable = False  # Freeze base model\n",
    "    model = Sequential([\n",
    "        base_model,\n",
    "        layers.GlobalAveragePooling2D(),\n",
    "        layers.Dense(128, activation='relu'),\n",
    "        layers.Dense(num_classes, activation='softmax')\n",
    "    ])\n",
    "    model.compile(optimizer=optimizers.Adam(),\n",
    "                  loss='sparse_categorical_crossentropy',\n",
    "                  metrics=['accuracy'])\n",
    "    return model"
   ]
  },
  {
   "cell_type": "code",
   "execution_count": null,
   "id": "22504439-08b5-4075-b282-d9b6ee470d69",
   "metadata": {},
   "outputs": [],
   "source": []
  }
 ],
 "metadata": {
  "kernelspec": {
   "display_name": "Python 3 (ipykernel)",
   "language": "python",
   "name": "python3"
  },
  "language_info": {
   "codemirror_mode": {
    "name": "ipython",
    "version": 3
   },
   "file_extension": ".py",
   "mimetype": "text/x-python",
   "name": "python",
   "nbconvert_exporter": "python",
   "pygments_lexer": "ipython3",
   "version": "3.11.7"
  }
 },
 "nbformat": 4,
 "nbformat_minor": 5
}
